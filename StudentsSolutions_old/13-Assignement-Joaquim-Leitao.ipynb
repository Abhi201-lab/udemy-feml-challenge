{
 "cells": [
  {
   "cell_type": "markdown",
   "metadata": {},
   "source": [
    "## Assignment:\n",
    "\n",
    "Beat the performance of my Lasso regression by **using different feature engineering steps ONLY!!**.\n",
    "\n",
    "The performance of my current model, as shown in this notebook is:\n",
    "- test rmse: 44798.497576784845\n",
    "- test r2: 0.7079639526659389\n",
    "\n",
    "To beat my model you will need a test r2 bigger than 0.71 and a rmse smaller than 44798.\n",
    "\n",
    "\n",
    "### Conditions:\n",
    "\n",
    "- You MUST NOT change the hyperparameters of the Lasso.\n",
    "- You MUST use the same seeds in Lasso and train_test_split as I show in this notebook (random_state)\n",
    "- You MUST use all the features of the dataset (except Id) - you MUST NOT select features\n",
    "\n",
    "\n",
    "### If you beat my model:\n",
    "\n",
    "Make a pull request with your notebook to this github repo:\n",
    "https://github.com/solegalli/udemy-feml-challenge\n",
    "\n",
    "Remember that you need to fork this repo first, upload your winning notebook to your repo, and then make a PR (pull request) to my repo. I will then revise and accept the PR, which will appear in my repo and be available to all the students in the course. This way, other students can learn from your creativity when transforming the variables in your dataset. "
   ]
  },
  {
   "cell_type": "markdown",
   "metadata": {},
   "source": [
    "## House Prices dataset"
   ]
  },
  {
   "cell_type": "code",
   "execution_count": 1,
   "metadata": {},
   "outputs": [],
   "source": [
    "from math import sqrt\n",
    "import pandas as pd\n",
    "import numpy as np\n",
    "import matplotlib.pyplot as plt\n",
    "\n",
    "# for the model\n",
    "from sklearn.model_selection import train_test_split\n",
    "from sklearn.linear_model import Lasso\n",
    "from sklearn.pipeline import Pipeline\n",
    "from sklearn.metrics import mean_squared_error, r2_score\n",
    "from sklearn.impute import KNNImputer\n",
    "from sklearn.compose import ColumnTransformer\n",
    "\n",
    "# for feature engineering\n",
    "from sklearn.preprocessing import StandardScaler\n",
    "from feature_engine import missing_data_imputers as mdi\n",
    "from feature_engine import discretisers as dsc\n",
    "from feature_engine import categorical_encoders as ce"
   ]
  },
  {
   "cell_type": "markdown",
   "metadata": {},
   "source": [
    "### Load Datasets"
   ]
  },
  {
   "cell_type": "code",
   "execution_count": 2,
   "metadata": {},
   "outputs": [],
   "source": [
    "# load dataset\n",
    "\n",
    "data = pd.read_csv('../houseprice.csv')"
   ]
  },
  {
   "cell_type": "code",
   "execution_count": 3,
   "metadata": {},
   "outputs": [
    {
     "name": "stdout",
     "output_type": "stream",
     "text": [
      "There are 18 continuous variables\n",
      "There are 14 discrete variables\n",
      "There are 4 temporal variables\n",
      "There are 43 categorical variables\n"
     ]
    }
   ],
   "source": [
    "# make lists of variable types\n",
    "\n",
    "categorical = [var for var in data.columns if data[var].dtype == 'O']\n",
    "\n",
    "year_vars = [var for var in data.columns if 'Yr' in var or 'Year' in var]\n",
    "\n",
    "discrete = [\n",
    "    var for var in data.columns if data[var].dtype != 'O'\n",
    "    and len(data[var].unique()) < 20 and var not in year_vars\n",
    "]\n",
    "\n",
    "numerical = [\n",
    "    var for var in data.columns if data[var].dtype != 'O'\n",
    "    if var not in discrete and var not in ['Id', 'SalePrice']\n",
    "    and var not in year_vars\n",
    "]\n",
    "\n",
    "print('There are {} continuous variables'.format(len(numerical)))\n",
    "print('There are {} discrete variables'.format(len(discrete)))\n",
    "print('There are {} temporal variables'.format(len(year_vars)))\n",
    "print('There are {} categorical variables'.format(len(categorical)))"
   ]
  },
  {
   "cell_type": "markdown",
   "metadata": {},
   "source": [
    "### Separate train and test set"
   ]
  },
  {
   "cell_type": "code",
   "execution_count": 4,
   "metadata": {},
   "outputs": [],
   "source": [
    "# IMPORTANT: keep the random_state to zero for reproducibility\n",
    "# Let's separate into train and test set\n",
    "\n",
    "X_train, X_test, y_train, y_test = train_test_split(data.drop(\n",
    "    ['Id', 'SalePrice'], axis=1),\n",
    "    data['SalePrice'],\n",
    "    test_size=0.1,\n",
    "    random_state=0)"
   ]
  },
  {
   "cell_type": "code",
   "execution_count": 5,
   "metadata": {},
   "outputs": [],
   "source": [
    "# calculate elapsed time\n",
    "\n",
    "def elapsed_years(df, var):\n",
    "    # capture difference between year variable and\n",
    "    # year the house was sold\n",
    "    \n",
    "    df[var] = df['YrSold'] - df[var]\n",
    "    return df\n",
    "\n",
    "for var in ['YearBuilt', 'YearRemodAdd', 'GarageYrBlt']:\n",
    "    X_train = elapsed_years(X_train, var)\n",
    "    X_test = elapsed_years(X_test, var)"
   ]
  },
  {
   "cell_type": "code",
   "execution_count": 6,
   "metadata": {},
   "outputs": [],
   "source": [
    "# drop YrSold\n",
    "X_train.drop('YrSold', axis=1, inplace=True)\n",
    "X_test.drop('YrSold', axis=1, inplace=True)"
   ]
  },
  {
   "cell_type": "code",
   "execution_count": 7,
   "metadata": {},
   "outputs": [],
   "source": [
    "# capture the column names for use later in the notebook\n",
    "final_columns = X_train.columns"
   ]
  },
  {
   "cell_type": "markdown",
   "metadata": {},
   "source": [
    "## Feature Engineering Pipeline"
   ]
  },
  {
   "cell_type": "code",
   "execution_count": 8,
   "metadata": {},
   "outputs": [],
   "source": [
    "# I will treat discrete variables as if they were categorical\n",
    "# to treat discrete as categorical using Feature-engine\n",
    "# we need to re-cast them as object\n",
    "\n",
    "X_train[discrete] = X_train[discrete].astype('O')\n",
    "X_test[discrete] = X_test[discrete].astype('O')"
   ]
  },
  {
   "cell_type": "code",
   "execution_count": 9,
   "metadata": {},
   "outputs": [
    {
     "name": "stdout",
     "output_type": "stream",
     "text": [
      "PoolQC in categorical with 0.9954337899543378\n",
      "MiscFeature in categorical with 0.9611872146118722\n",
      "Alley in categorical with 0.9383561643835616\n",
      "Fence in categorical with 0.8143074581430746\n",
      "FireplaceQu in categorical with 0.4726027397260274\n",
      "LotFrontage in numerical with 0.17732115677321156\n",
      "GarageCond in categorical with 0.0563165905631659\n",
      "GarageQual in categorical with 0.0563165905631659\n",
      "GarageType in categorical with 0.0563165905631659\n",
      "GarageYrBlt in year_vars with 0.0563165905631659\n",
      "GarageFinish in categorical with 0.0563165905631659\n",
      "BsmtFinType2 in categorical with 0.02511415525114155\n",
      "BsmtExposure in categorical with 0.02511415525114155\n",
      "BsmtQual in categorical with 0.0243531202435312\n",
      "BsmtCond in categorical with 0.0243531202435312\n",
      "BsmtFinType1 in categorical with 0.0243531202435312\n",
      "MasVnrArea in numerical with 0.0045662100456621\n",
      "MasVnrType in categorical with 0.0045662100456621\n",
      "Electrical in categorical with 0.00076103500761035\n",
      "ExterQual in categorical with 0.0\n",
      "YearBuilt in year_vars with 0.0\n",
      "ExterCond in categorical with 0.0\n",
      "Foundation in categorical with 0.0\n",
      "Exterior2nd in categorical with 0.0\n",
      "Exterior1st in categorical with 0.0\n",
      "RoofMatl in categorical with 0.0\n",
      "RoofStyle in categorical with 0.0\n",
      "YearRemodAdd in year_vars with 0.0\n",
      "SaleCondition in categorical with 0.0\n",
      "OverallCond in discrete with 0.0\n",
      "OverallQual in discrete with 0.0\n",
      "HouseStyle in categorical with 0.0\n",
      "BldgType in categorical with 0.0\n",
      "Condition2 in categorical with 0.0\n",
      "Neighborhood in categorical with 0.0\n",
      "LandSlope in categorical with 0.0\n",
      "LotConfig in categorical with 0.0\n",
      "Utilities in categorical with 0.0\n",
      "LandContour in categorical with 0.0\n",
      "LotShape in categorical with 0.0\n",
      "Street in categorical with 0.0\n",
      "LotArea in numerical with 0.0\n",
      "MSZoning in categorical with 0.0\n",
      "Condition1 in categorical with 0.0\n",
      "Heating in categorical with 0.0\n",
      "BsmtFinSF1 in numerical with 0.0\n",
      "KitchenQual in categorical with 0.0\n",
      "MoSold in discrete with 0.0\n",
      "MiscVal in numerical with 0.0\n",
      "PoolArea in discrete with 0.0\n",
      "ScreenPorch in numerical with 0.0\n",
      "3SsnPorch in numerical with 0.0\n",
      "EnclosedPorch in numerical with 0.0\n",
      "OpenPorchSF in numerical with 0.0\n",
      "WoodDeckSF in numerical with 0.0\n",
      "PavedDrive in categorical with 0.0\n",
      "GarageArea in numerical with 0.0\n",
      "GarageCars in discrete with 0.0\n",
      "Fireplaces in discrete with 0.0\n",
      "Functional in categorical with 0.0\n",
      "TotRmsAbvGrd in discrete with 0.0\n",
      "KitchenAbvGr in discrete with 0.0\n",
      "BsmtFinSF2 in numerical with 0.0\n",
      "BedroomAbvGr in discrete with 0.0\n",
      "HalfBath in discrete with 0.0\n",
      "FullBath in discrete with 0.0\n",
      "BsmtHalfBath in discrete with 0.0\n",
      "BsmtFullBath in discrete with 0.0\n",
      "GrLivArea in numerical with 0.0\n",
      "LowQualFinSF in numerical with 0.0\n",
      "2ndFlrSF in numerical with 0.0\n",
      "1stFlrSF in numerical with 0.0\n",
      "CentralAir in categorical with 0.0\n",
      "HeatingQC in categorical with 0.0\n",
      "SaleType in categorical with 0.0\n",
      "TotalBsmtSF in numerical with 0.0\n",
      "BsmtUnfSF in numerical with 0.0\n",
      "MSSubClass in discrete with 0.0\n"
     ]
    }
   ],
   "source": [
    "# When to use mean/median imputation -- No more than 5% of the variable contains missing data\n",
    "# Therefore, will check the percentage of missing data in the columns    \n",
    "result = X_train.isnull().mean().sort_values(ascending=False)\n",
    "# print(result)\n",
    "\n",
    "for i in range(len(result.index)):\n",
    "    var = result.index[i]\n",
    "    if var in numerical:\n",
    "        var_type = \"numerical\"\n",
    "    elif var in discrete:\n",
    "        var_type = \"discrete\"\n",
    "    elif var in year_vars:\n",
    "        var_type = \"year_vars\"\n",
    "    elif var in categorical:\n",
    "        var_type = \"categorical\"\n",
    "    print(f\"{var} in {var_type} with {result.values[i]}\")"
   ]
  },
  {
   "cell_type": "code",
   "execution_count": 14,
   "metadata": {},
   "outputs": [],
   "source": [
    "house_pipe = Pipeline([\n",
    "\n",
    "    # missing data imputation - section 4\n",
    "    # Adding this missing column made no major improvements to the model performance\n",
    "    # ('missing_ind', mdi.AddNaNBinaryImputer(variables=['LotFrontage', 'MasVnrArea', 'GarageYrBlt'])),\n",
    "    \n",
    "    ('imputer_num',\n",
    "     mdi.MeanMedianImputer(imputation_method='median', variables=['LotFrontage', 'MasVnrArea', 'GarageYrBlt'])),\n",
    "    \n",
    "    # Impute categorical variables with value \"Missing\"\n",
    "    #('imputer_cat', mdi.CategoricalVariableImputer(variables=categorical)),\n",
    "    \n",
    "    # Will impute categorical variables with most frequent category, but adding additional\n",
    "    # column stating if the variable had originally a missing value or not\n",
    "    ('missing_ind_categorical', mdi.AddNaNBinaryImputer(variables=categorical)),\n",
    "    ('imputer_cat', mdi.FrequentCategoryImputer(variables=categorical)),\n",
    "    \n",
    "    # categorical encoding - section 6\n",
    "    # Decreased the tolerance for rare labels to half the default value\n",
    "    # Better results when encoding for both categorical and discrete variables\n",
    "    ('rare_label_enc',\n",
    "     ce.RareLabelCategoricalEncoder(tol=0.025, n_categories=10, variables=categorical+discrete)),\n",
    "    ('categorical_enc',\n",
    "     ce.OneHotCategoricalEncoder(top_categories=10, variables=categorical+discrete)),\n",
    "    \n",
    "    # ce.OrdinalCategoricalEncoder(encoding_method='ordered', variables=categorical + discrete)),\n",
    "\n",
    "    # discretisation + encoding - section 8\n",
    "    # ('discretisation', dsc.EqualFrequencyDiscretiser(q=5, return_object=True, variables=numerical)),\n",
    "    # ('encoding', ce.OrdinalCategoricalEncoder(encoding_method='ordered', variables=numerical)),\n",
    "    \n",
    "    # Concerning numerical variables, note that we have no more imputation to do (only numerical variables\n",
    "    # with missing data are 'LotFrontage' and 'MasVnrArea'), therefore we will only do feature scaling\n",
    "\n",
    "    # feature Scaling - section 10\n",
    "    ('scaler', StandardScaler()),\n",
    "\n",
    "    # regression\n",
    "    ('lasso', Lasso(random_state=0))\n",
    "])"
   ]
  },
  {
   "cell_type": "code",
   "execution_count": 15,
   "metadata": {},
   "outputs": [
    {
     "name": "stderr",
     "output_type": "stream",
     "text": [
      "/home/jpleitao/anaconda3/lib/python3.7/site-packages/sklearn/linear_model/_coordinate_descent.py:476: ConvergenceWarning: Objective did not converge. You might want to increase the number of iterations. Duality gap: 52922465997.211395, tolerance: 820439508.5822281\n",
      "  positive)\n"
     ]
    }
   ],
   "source": [
    "# let's fit the pipeline\n",
    "house_pipe.fit(X_train, y_train)\n",
    "\n",
    "# let's get the predictions\n",
    "X_train_preds = house_pipe.predict(X_train)\n",
    "X_test_preds = house_pipe.predict(X_test)"
   ]
  },
  {
   "cell_type": "code",
   "execution_count": 21,
   "metadata": {},
   "outputs": [
    {
     "name": "stdout",
     "output_type": "stream",
     "text": [
      "train mse: 378408133.3428208\n",
      "train rmse: 19452.715320561827\n",
      "train r2: 0.9393948874949101\n",
      "\n",
      "test mse: 1033402972.8698695\n",
      "test rmse: 32146.585710925345\n",
      "test r2: 0.8496237432341369\n"
     ]
    }
   ],
   "source": [
    "# check model performance:\n",
    "\n",
    "print('train mse: {}'.format(mean_squared_error(y_train, X_train_preds)))\n",
    "print('train rmse: {}'.format(sqrt(mean_squared_error(y_train, X_train_preds))))\n",
    "print('train r2: {}'.format(r2_score(y_train, X_train_preds)))\n",
    "print()\n",
    "print('test mse: {}'.format(mean_squared_error(y_test, X_test_preds)))\n",
    "print('test rmse: {}'.format(sqrt(mean_squared_error(y_test, X_test_preds))))\n",
    "print('test r2: {}'.format(r2_score(y_test, X_test_preds)))\n",
    "\n",
    "# Original results:\n",
    "# train mse: 1035269885.2749033\n",
    "# train rmse: 32175.610099497775\n",
    "# train r2: 0.8341931836507989\n",
    "\n",
    "# test mse: 2006905385.1371987\n",
    "# test rmse: 44798.49757678486\n",
    "# test r2: 0.7079639526659387"
   ]
  },
  {
   "cell_type": "code",
   "execution_count": 17,
   "metadata": {},
   "outputs": [
    {
     "data": {
      "text/plain": [
       "Text(0, 0.5, 'Predicted Price')"
      ]
     },
     "execution_count": 17,
     "metadata": {},
     "output_type": "execute_result"
    },
    {
     "data": {
      "image/png": "[encoded data removed]",
      "text/plain": [
       "<Figure size 432x288 with 1 Axes>"
      ]
     },
     "metadata": {
      "needs_background": "light"
     },
     "output_type": "display_data"
    }
   ],
   "source": [
    "# plot predictions vs real value\n",
    "\n",
    "plt.scatter(y_test,X_test_preds)\n",
    "plt.xlabel('True Price')\n",
    "plt.ylabel('Predicted Price')"
   ]
  },
  {
   "cell_type": "code",
   "execution_count": null,
   "metadata": {},
   "outputs": [],
   "source": []
  }
 ],
 "metadata": {
  "kernelspec": {
   "display_name": "Python 3",
   "language": "python",
   "name": "python3"
  },
  "language_info": {
   "codemirror_mode": {
    "name": "ipython",
    "version": 3
   },
   "file_extension": ".py",
   "mimetype": "text/x-python",
   "name": "python",
   "nbconvert_exporter": "python",
   "pygments_lexer": "ipython3",
   "version": "3.7.3"
  },
  "toc": {
   "nav_menu": {},
   "number_sections": true,
   "sideBar": true,
   "skip_h1_title": false,
   "toc_cell": false,
   "toc_position": {
    "height": "583px",
    "left": "0px",
    "right": "1324px",
    "top": "107px",
    "width": "212px"
   },
   "toc_section_display": "block",
   "toc_window_display": true
  }
 },
 "nbformat": 4,
 "nbformat_minor": 2
}
