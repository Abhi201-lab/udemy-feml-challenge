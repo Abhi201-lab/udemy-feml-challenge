{
 "cells": [
  {
   "cell_type": "markdown",
   "metadata": {},
   "source": [
    "## Assignment:\n",
    "\n",
    "Beat the performance of my Lasso regression by **using different feature engineering steps ONLY!!**.\n",
    "\n",
    "The performance of my current model, as shown in this notebook is:\n",
    "- test rmse: 44798.497576784845\n",
    "- test r2: 0.7079639526659389\n",
    "\n",
    "To beat my model you will need a test r2 bigger than 0.71 and a rmse smaller than 44798.\n",
    "\n",
    "\n",
    "### Conditions:\n",
    "\n",
    "- You MUST NOT change the hyperparameters of the Lasso.\n",
    "- You MUST use the same seeds in Lasso and train_test_split as I show in this notebook (random_state)\n",
    "- You MUST use all the features of the dataset (except Id) - you MUST NOT select features\n",
    "\n",
    "\n",
    "### If you beat my model:\n",
    "\n",
    "Make a pull request with your notebook to this github repo:\n",
    "https://github.com/solegalli/udemy-feml-challenge\n",
    "\n",
    "Remember that you need to fork this repo first, upload your winning notebook to your repo, and then make a PR (pull request) to my repo. I will then revise and accept the PR, which will appear in my repo and be available to all the students in the course. This way, other students can learn from your creativity when transforming the variables in your dataset. "
   ]
  },
  {
   "cell_type": "markdown",
   "metadata": {},
   "source": [
    "# Summary of my results\n",
    "\n",
    "Main changes:\n",
    "- calculate `elapsed_years` with respect to `YearBuilt` instead of `YrSold`\n",
    "- OneHot encoding of categorical variables\n",
    "- do not discretize continuous numerical variables\n",
    "- used ScikitLearn instead of Feature-Engine\n",
    "\n",
    "Results on the test set:\n",
    "- rmse = 38063.04673161993\n",
    "- r2 = 0.7891776453011499 \n",
    "\n"
   ]
  },
  {
   "cell_type": "markdown",
   "metadata": {},
   "source": [
    "## House Prices dataset"
   ]
  },
  {
   "cell_type": "code",
   "execution_count": 1,
   "metadata": {},
   "outputs": [],
   "source": [
    "from math import sqrt\n",
    "import pandas as pd\n",
    "import numpy as np\n",
    "import matplotlib.pyplot as plt\n",
    "\n",
    "# for the model\n",
    "from sklearn.model_selection import train_test_split\n",
    "from sklearn.linear_model import Lasso\n",
    "from sklearn.pipeline import Pipeline\n",
    "from sklearn.compose import ColumnTransformer\n",
    "from sklearn.metrics import mean_squared_error, r2_score\n",
    "\n",
    "# for feature engineering\n",
    "from sklearn.impute import SimpleImputer\n",
    "from sklearn.preprocessing import StandardScaler, MinMaxScaler, OneHotEncoder, PowerTransformer\n",
    "# from feature_engine import missing_data_imputers as mdi\n",
    "# from feature_engine import discretisers as dsc\n",
    "# from feature_engine import categorical_encoders as ce"
   ]
  },
  {
   "cell_type": "markdown",
   "metadata": {},
   "source": [
    "### Load Datasets"
   ]
  },
  {
   "cell_type": "code",
   "execution_count": 2,
   "metadata": {},
   "outputs": [],
   "source": [
    "# load dataset\n",
    "\n",
    "data = pd.read_csv('../houseprice.csv')"
   ]
  },
  {
   "cell_type": "code",
   "execution_count": 3,
   "metadata": {},
   "outputs": [
    {
     "name": "stdout",
     "output_type": "stream",
     "text": [
      "There are 19 continuous variables\n",
      "There are 13 discrete variables\n",
      "There are 4 temporal variables\n",
      "There are 43 categorical variables\n"
     ]
    }
   ],
   "source": [
    "# make lists of variable types\n",
    "\n",
    "categorical_vars = [var for var in data.columns if data[var].dtype == 'O']\n",
    "\n",
    "year_vars = [var for var in data.columns if 'Yr' in var or 'Year' in var]\n",
    "\n",
    "discrete_vars = [\n",
    "    var for var in data.columns if data[var].dtype != 'O'\n",
    "    and len(data[var].unique()) < 15 and var not in year_vars\n",
    "]\n",
    "\n",
    "numerical_vars = [\n",
    "    var for var in data.columns if data[var].dtype != 'O'\n",
    "    if var not in discrete_vars and var not in ['Id', 'SalePrice']\n",
    "    and var not in year_vars\n",
    "]\n",
    "\n",
    "print('There are {} continuous variables'.format(len(numerical_vars)))\n",
    "print('There are {} discrete variables'.format(len(discrete_vars)))\n",
    "print('There are {} temporal variables'.format(len(year_vars)))\n",
    "print('There are {} categorical variables'.format(len(categorical_vars)))"
   ]
  },
  {
   "cell_type": "markdown",
   "metadata": {},
   "source": [
    "### Separate train and test set"
   ]
  },
  {
   "cell_type": "code",
   "execution_count": 4,
   "metadata": {},
   "outputs": [],
   "source": [
    "# IMPORTANT: keep the random_state to zero for reproducibility\n",
    "# Let's separate into train and test set\n",
    "\n",
    "X_train, X_test, y_train, y_test = train_test_split(data.drop(\n",
    "    ['Id', 'SalePrice'], axis=1),\n",
    "    data['SalePrice'],\n",
    "    test_size=0.1,\n",
    "    random_state=0)"
   ]
  },
  {
   "cell_type": "code",
   "execution_count": 5,
   "metadata": {},
   "outputs": [],
   "source": [
    "# calculate elapsed time\n",
    "\n",
    "def elapsed_years(df, var):\n",
    "    # capture difference between year variable and year the house was *built*\n",
    "    \n",
    "    df[var] = df[var] - df['YearBuilt']\n",
    "    return df\n",
    "\n",
    "for var in ['YrSold', 'YearRemodAdd', 'GarageYrBlt']:\n",
    "    X_train = elapsed_years(X_train, var)\n",
    "    X_test = elapsed_years(X_test, var)\n",
    "    \n",
    "# drop YrSold\n",
    "X_train.drop('YearBuilt', axis=1, inplace=True)\n",
    "X_test.drop('YearBuilt', axis=1, inplace=True)\n",
    "\n",
    "# capture the column names for use later in the notebook\n",
    "final_columns = X_train.columns"
   ]
  },
  {
   "cell_type": "markdown",
   "metadata": {},
   "source": [
    "## Feature Engineering Pipeline"
   ]
  },
  {
   "cell_type": "code",
   "execution_count": 6,
   "metadata": {},
   "outputs": [],
   "source": [
    "## functions to encode rare categories\n",
    "def find_non_rare_labels(df, variable, tolerance):\n",
    "    \n",
    "    temp = df.groupby([variable])[variable].count()/len(df)\n",
    "    non_rare = [x for x in temp.loc[temp>tolerance].index.values]\n",
    "    \n",
    "    return non_rare\n",
    "\n",
    "def rare_encoding(X_train, X_test, variable, tolerance):\n",
    "\n",
    "    X_train = X_train.copy()\n",
    "    X_test = X_test.copy()\n",
    "\n",
    "    # find the most frequent category\n",
    "    frequent_cat = find_non_rare_labels(X_train, variable, tolerance)\n",
    "\n",
    "    # re-group rare labels\n",
    "    X_train[variable] = np.where(X_train[variable].isin(\n",
    "        frequent_cat), X_train[variable], 'Rare')\n",
    "    \n",
    "    X_test[variable] = np.where(X_test[variable].isin(\n",
    "        frequent_cat), X_test[variable], 'Rare')\n",
    "\n",
    "    return X_train, X_test\n",
    "\n",
    "## encoding rare categories\n",
    "for var in categorical_vars+discrete_vars:\n",
    "    X_train, X_test = rare_encoding(X_train, X_test, var, 0.05)"
   ]
  },
  {
   "cell_type": "code",
   "execution_count": 38,
   "metadata": {},
   "outputs": [],
   "source": [
    "## building our pipeline using scikitlearn\n",
    "\n",
    "numeric_transformer = Pipeline(steps=[\n",
    "    ('imputer_num', SimpleImputer(strategy='median')),\n",
    "    ('scaler', StandardScaler())\n",
    "])\n",
    "\n",
    "categorical_transformer = Pipeline(steps=[\n",
    "    ('imputer_cat', SimpleImputer(strategy='constant', fill_value='missing')),\n",
    "    ('onehot_enc', OneHotEncoder(drop='first'))])\n",
    "\n",
    "discrete_transformer = Pipeline(steps=[\n",
    "    ('imputer_disc', SimpleImputer(strategy='most_frequent')),\n",
    "    ('onehot_enc', OneHotEncoder(drop='first'))\n",
    "])\n",
    "\n",
    "preprocessor = ColumnTransformer(transformers=[\n",
    "    ('num', numeric_transformer, numerical_vars),\n",
    "    ('cat', categorical_transformer, categorical_vars),\n",
    "    ('disc', discrete_transformer, discrete_vars)\n",
    "])\n",
    "\n",
    "house_pipe = Pipeline(steps=[('preprocessor', preprocessor),\n",
    "                        ('lasso', Lasso(random_state=0))])"
   ]
  },
  {
   "cell_type": "code",
   "execution_count": 39,
   "metadata": {},
   "outputs": [
    {
     "name": "stdout",
     "output_type": "stream",
     "text": [
      "train mse: 684649908.3271698\n",
      "train rmse: 26165.815644217357\n",
      "train r2: 0.8903477989380937\n",
      "\n",
      "test mse: 1448795526.4934826\n",
      "test rmse: 38063.04673161993\n",
      "test r2: 0.7891776453011499\n"
     ]
    },
    {
     "name": "stderr",
     "output_type": "stream",
     "text": [
      "/root/anaconda3/lib/python3.6/site-packages/sklearn/linear_model/coordinate_descent.py:475: ConvergenceWarning: Objective did not converge. You might want to increase the number of iterations. Duality gap: 9661515757.803345, tolerance: 820439508.5822281\n",
      "  positive)\n"
     ]
    }
   ],
   "source": [
    "# let's fit the pipeline\n",
    "house_pipe.fit(X_train, y_train)\n",
    "\n",
    "# let's get the predictions\n",
    "X_train_preds = house_pipe.predict(X_train)\n",
    "X_test_preds = house_pipe.predict(X_test)\n",
    "\n",
    "\n",
    "# check model performance:\n",
    "\n",
    "print('train mse: {}'.format(mean_squared_error(y_train, X_train_preds)))\n",
    "print('train rmse: {}'.format(sqrt(mean_squared_error(y_train, X_train_preds))))\n",
    "print('train r2: {}'.format(r2_score(y_train, X_train_preds)))\n",
    "print()\n",
    "print('test mse: {}'.format(mean_squared_error(y_test, X_test_preds)))\n",
    "print('test rmse: {}'.format(sqrt(mean_squared_error(y_test, X_test_preds))))\n",
    "print('test r2: {}'.format(r2_score(y_test, X_test_preds)))"
   ]
  },
  {
   "cell_type": "markdown",
   "metadata": {},
   "source": [
    "We see an improvement on both rmse and r2 score with respect to the baseline as desired :)"
   ]
  },
  {
   "cell_type": "code",
   "execution_count": 9,
   "metadata": {},
   "outputs": [
    {
     "data": {
      "image/png": "[encoded data removed]",
      "text/plain": [
       "<Figure size 432x288 with 1 Axes>"
      ]
     },
     "metadata": {
      "needs_background": "light"
     },
     "output_type": "display_data"
    }
   ],
   "source": [
    "# plot predictions vs real value\n",
    "\n",
    "plt.scatter(y_test,X_test_preds)\n",
    "plt.xlabel('True Price')\n",
    "plt.ylabel('Predicted Price')\n",
    "plt.xlim(0,800000)\n",
    "plt.ylim(0,800000);"
   ]
  },
  {
   "cell_type": "code",
   "execution_count": null,
   "metadata": {},
   "outputs": [],
   "source": []
  }
 ],
 "metadata": {
  "kernelspec": {
   "display_name": "Python 3",
   "language": "python",
   "name": "python3"
  },
  "language_info": {
   "codemirror_mode": {
    "name": "ipython",
    "version": 3
   },
   "file_extension": ".py",
   "mimetype": "text/x-python",
   "name": "python",
   "nbconvert_exporter": "python",
   "pygments_lexer": "ipython3",
   "version": "3.6.8"
  },
  "toc": {
   "nav_menu": {},
   "number_sections": true,
   "sideBar": true,
   "skip_h1_title": false,
   "toc_cell": false,
   "toc_position": {
    "height": "583px",
    "left": "0px",
    "right": "1324px",
    "top": "107px",
    "width": "212px"
   },
   "toc_section_display": "block",
   "toc_window_display": true
  }
 },
 "nbformat": 4,
 "nbformat_minor": 2
}
