{
 "cells": [
  {
   "cell_type": "markdown",
   "metadata": {},
   "source": [
    "## Assignment:\n",
    "\n",
    "Beat the performance of my Lasso regression by **using different feature engineering steps ONLY!!**.\n",
    "\n",
    "The performance of my current model, as shown in this notebook is:\n",
    "- test rmse: 44798.497576784845\n",
    "- test r2: 0.7079639526659389\n",
    "\n",
    "To beat my model you will need a test r2 bigger than 0.71 and a rmse smaller than 44798.\n",
    "\n",
    "\n",
    "### Conditions:\n",
    "\n",
    "- You MUST NOT change the hyperparameters of the Lasso.\n",
    "- You MUST use the same seeds in Lasso and train_test_split as I show in this notebook (random_state)\n",
    "- You MUST use all the features of the dataset (except Id) - you MUST NOT select features\n",
    "\n",
    "\n",
    "### If you beat my model:\n",
    "\n",
    "Make a pull request with your notebook to this github repo:\n",
    "https://github.com/solegalli/udemy-feml-challenge\n",
    "\n",
    "Remember that you need to fork this repo first, upload your winning notebook to your repo, and then make a PR (pull request) to my repo. I will then revise and accept the PR, which will appear in my repo and be available to all the students in the course. This way, other students can learn from your creativity when transforming the variables in your dataset. "
   ]
  },
  {
   "cell_type": "markdown",
   "metadata": {},
   "source": [
    "## House Prices dataset"
   ]
  },
  {
   "cell_type": "code",
   "execution_count": 109,
   "metadata": {},
   "outputs": [],
   "source": [
    "from math import sqrt\n",
    "import pandas as pd\n",
    "import numpy as np\n",
    "import matplotlib.pyplot as plt\n",
    "\n",
    "# for the model\n",
    "from sklearn.model_selection import train_test_split\n",
    "from sklearn.linear_model import Lasso\n",
    "from sklearn.pipeline import Pipeline\n",
    "from sklearn.metrics import mean_squared_error, r2_score\n",
    "\n",
    "# for feature engineering\n",
    "from sklearn.preprocessing import StandardScaler\n",
    "from feature_engine import missing_data_imputers as mdi\n",
    "from feature_engine import discretisers as dsc\n",
    "from feature_engine import categorical_encoders as ce"
   ]
  },
  {
   "cell_type": "markdown",
   "metadata": {},
   "source": [
    "### Load Datasets"
   ]
  },
  {
   "cell_type": "code",
   "execution_count": 110,
   "metadata": {},
   "outputs": [],
   "source": [
    "# load dataset\n",
    "\n",
    "data = pd.read_csv('../houseprice.csv')"
   ]
  },
  {
   "cell_type": "code",
   "execution_count": 111,
   "metadata": {},
   "outputs": [
    {
     "name": "stdout",
     "output_type": "stream",
     "text": [
      "There are 18 continuous variables\n",
      "There are 14 discrete variables\n",
      "There are 4 temporal variables\n",
      "There are 43 categorical variables\n"
     ]
    }
   ],
   "source": [
    "# make lists of variable types\n",
    "\n",
    "categorical = [var for var in data.columns if data[var].dtype == 'O']\n",
    "\n",
    "year_vars = [var for var in data.columns if 'Yr' in var or 'Year' in var]\n",
    "\n",
    "discrete = [\n",
    "    var for var in data.columns if data[var].dtype != 'O'\n",
    "    and len(data[var].unique()) < 20 and var not in year_vars\n",
    "]\n",
    "\n",
    "numerical = [\n",
    "    var for var in data.columns if data[var].dtype != 'O'\n",
    "    if var not in discrete and var not in ['Id', 'SalePrice']\n",
    "    and var not in year_vars\n",
    "]\n",
    "\n",
    "print('There are {} continuous variables'.format(len(numerical)))\n",
    "print('There are {} discrete variables'.format(len(discrete)))\n",
    "print('There are {} temporal variables'.format(len(year_vars)))\n",
    "print('There are {} categorical variables'.format(len(categorical)))"
   ]
  },
  {
   "cell_type": "markdown",
   "metadata": {},
   "source": [
    "### Separate train and test set"
   ]
  },
  {
   "cell_type": "code",
   "execution_count": 112,
   "metadata": {},
   "outputs": [],
   "source": [
    "# IMPORTANT: keep the random_state to zero for reproducibility\n",
    "# Let's separate into train and test set\n",
    "\n",
    "X_train, X_test, y_train, y_test = train_test_split(data.drop(\n",
    "    ['Id', 'SalePrice'], axis=1),\n",
    "    data['SalePrice'],\n",
    "    test_size=0.1,\n",
    "    random_state=0)"
   ]
  },
  {
   "cell_type": "code",
   "execution_count": 113,
   "metadata": {},
   "outputs": [],
   "source": [
    "# calculate elapsed time\n",
    "\n",
    "def elapsed_years(df, var):\n",
    "    # capture difference between year variable and\n",
    "    # year the house was sold\n",
    "    \n",
    "    df[var] = df['YrSold'] - df[var]\n",
    "    return df\n",
    "\n",
    "for var in ['YearBuilt', 'YearRemodAdd', 'GarageYrBlt']:\n",
    "    X_train = elapsed_years(X_train, var)\n",
    "    X_test = elapsed_years(X_test, var)"
   ]
  },
  {
   "cell_type": "code",
   "execution_count": 114,
   "metadata": {},
   "outputs": [],
   "source": [
    "# drop YrSold\n",
    "X_train.drop('YrSold', axis=1, inplace=True)\n",
    "X_test.drop('YrSold', axis=1, inplace=True)"
   ]
  },
  {
   "cell_type": "code",
   "execution_count": 115,
   "metadata": {},
   "outputs": [],
   "source": [
    "# Join number of bathrooms in total\n",
    "\n",
    "X_train['FullBath'] = X_train['FullBath'] + X_train['BsmtFullBath']\n",
    "X_train['HalfBath'] = X_train['HalfBath'] + X_train['BsmtHalfBath']\n",
    "\n",
    "X_test['FullBath'] = X_test['FullBath'] + X_test['BsmtFullBath']\n",
    "X_test['HalfBath'] = X_test['HalfBath'] + X_test['BsmtHalfBath']\n",
    "\n",
    "\n",
    "X_train.drop(['BsmtFullBath', 'BsmtHalfBath'], axis=1, inplace=True)\n",
    "X_test.drop(['BsmtFullBath', 'BsmtHalfBath'], axis=1, inplace=True)\n",
    "\n",
    "discrete.remove('BsmtFullBath')\n",
    "discrete.remove('BsmtHalfBath')"
   ]
  },
  {
   "cell_type": "code",
   "execution_count": null,
   "metadata": {},
   "outputs": [],
   "source": []
  },
  {
   "cell_type": "code",
   "execution_count": 116,
   "metadata": {},
   "outputs": [],
   "source": [
    "# capture the column names for use later in the notebook\n",
    "final_columns = X_train.columns"
   ]
  },
  {
   "cell_type": "markdown",
   "metadata": {},
   "source": [
    "## Feature Engineering Pipeline"
   ]
  },
  {
   "cell_type": "code",
   "execution_count": 117,
   "metadata": {},
   "outputs": [],
   "source": [
    "# I will treat discrete variables as if they were categorical\n",
    "# to treat discrete as categorical using Feature-engine\n",
    "# we need to re-cast them as object\n",
    "\n",
    "X_train[discrete] = X_train[discrete].astype('O')\n",
    "X_test[discrete] = X_test[discrete].astype('O')"
   ]
  },
  {
   "cell_type": "code",
   "execution_count": null,
   "metadata": {},
   "outputs": [],
   "source": []
  },
  {
   "cell_type": "code",
   "execution_count": 118,
   "metadata": {},
   "outputs": [
    {
     "data": {
      "text/plain": [
       "LotFrontage      0.177397\n",
       "GarageYrBlt      0.055479\n",
       "MasVnrArea       0.005479\n",
       "MiscVal          0.000000\n",
       "ScreenPorch      0.000000\n",
       "YearRemodAdd     0.000000\n",
       "YrSold           0.000000\n",
       "LotArea          0.000000\n",
       "BsmtFinSF1       0.000000\n",
       "BsmtFinSF2       0.000000\n",
       "BsmtUnfSF        0.000000\n",
       "TotalBsmtSF      0.000000\n",
       "1stFlrSF         0.000000\n",
       "2ndFlrSF         0.000000\n",
       "LowQualFinSF     0.000000\n",
       "GrLivArea        0.000000\n",
       "GarageArea       0.000000\n",
       "WoodDeckSF       0.000000\n",
       "OpenPorchSF      0.000000\n",
       "EnclosedPorch    0.000000\n",
       "3SsnPorch        0.000000\n",
       "YearBuilt        0.000000\n",
       "dtype: float64"
      ]
     },
     "execution_count": 118,
     "metadata": {},
     "output_type": "execute_result"
    }
   ],
   "source": [
    "data[np.append(year_vars, numerical)].isnull().mean().sort_values(ascending=False)"
   ]
  },
  {
   "cell_type": "code",
   "execution_count": null,
   "metadata": {},
   "outputs": [],
   "source": []
  },
  {
   "cell_type": "code",
   "execution_count": 119,
   "metadata": {},
   "outputs": [
    {
     "data": {
      "text/plain": [
       "7.0"
      ]
     },
     "execution_count": 119,
     "metadata": {},
     "output_type": "execute_result"
    }
   ],
   "source": [
    "#mean of number of categories\n",
    "vals = []\n",
    "for i in categorical:\n",
    "    vals.append(len(data[i].unique()))\n",
    "\n",
    "np.ceil(np.mean(vals))"
   ]
  },
  {
   "cell_type": "code",
   "execution_count": 120,
   "metadata": {},
   "outputs": [],
   "source": [
    "house_pipe = Pipeline([\n",
    "\n",
    "    # missing data imputation - section 4\n",
    "    ('missing_ind_1',\n",
    "     mdi.ArbitraryNumberImputer(\n",
    "        arbitrary_number=0, variables=['MasVnrArea'])),\n",
    "    \n",
    "    ('missing_ind_2',\n",
    "     mdi.AddNaNBinaryImputer(\n",
    "         variables=['LotFrontage', 'GarageYrBlt'])),\n",
    "    \n",
    "    ('imputer_num',\n",
    "     mdi.MeanMedianImputer(\n",
    "         imputation_method='median',\n",
    "         variables=['LotFrontage', 'GarageYrBlt'])),\n",
    "    \n",
    "    ('imputer_cat', mdi.CategoricalVariableImputer(variables=categorical)),\n",
    "\n",
    "    \n",
    "    # categorical encoding - section 6\n",
    "    ('rare_label_enc',\n",
    "     ce.RareLabelCategoricalEncoder(tol=0.03,\n",
    "                                    n_categories=7,\n",
    "                                    variables=categorical)),\n",
    "    ('categorical_enc',\n",
    "     ce.OneHotCategoricalEncoder(top_categories=10,\n",
    "                                  variables=categorical)),\n",
    "\n",
    "    # feature Scaling - section 10\n",
    "    ('scaler', StandardScaler()),\n",
    "\n",
    "    # regression\n",
    "    ('lasso', Lasso(random_state=0))\n",
    "])"
   ]
  },
  {
   "cell_type": "code",
   "execution_count": 121,
   "metadata": {},
   "outputs": [
    {
     "name": "stderr",
     "output_type": "stream",
     "text": [
      "/Users/danielazevedo/anaconda3/lib/python3.6/site-packages/sklearn/linear_model/coordinate_descent.py:475: ConvergenceWarning: Objective did not converge. You might want to increase the number of iterations. Duality gap: 11481797285.962524, tolerance: 820439508.5822282\n",
      "  positive)\n"
     ]
    }
   ],
   "source": [
    "# let's fit the pipeline\n",
    "house_pipe.fit(X_train, y_train)\n",
    "\n",
    "# let's get the predictions\n",
    "X_train_preds = house_pipe.predict(X_train)\n",
    "X_test_preds = house_pipe.predict(X_test)"
   ]
  },
  {
   "cell_type": "code",
   "execution_count": 122,
   "metadata": {},
   "outputs": [
    {
     "name": "stdout",
     "output_type": "stream",
     "text": [
      "train mse: 521419035.4075254\n",
      "train rmse: 22834.60171335435\n",
      "train r2: 0.9164905388686776\n",
      "\n",
      "test mse: 916525174.8883798\n",
      "test rmse: 30274.166790985015\n",
      "test r2: 0.8666312864877466\n"
     ]
    }
   ],
   "source": [
    "# check model performance:\n",
    "\n",
    "print('train mse: {}'.format(mean_squared_error(y_train, X_train_preds)))\n",
    "print('train rmse: {}'.format(sqrt(mean_squared_error(y_train, X_train_preds))))\n",
    "print('train r2: {}'.format(r2_score(y_train, X_train_preds)))\n",
    "print()\n",
    "print('test mse: {}'.format(mean_squared_error(y_test, X_test_preds)))\n",
    "print('test rmse: {}'.format(sqrt(mean_squared_error(y_test, X_test_preds))))\n",
    "print('test r2: {}'.format(r2_score(y_test, X_test_preds)))"
   ]
  },
  {
   "cell_type": "code",
   "execution_count": 123,
   "metadata": {},
   "outputs": [
    {
     "data": {
      "image/png": "[encoded data removed]",
      "text/plain": [
       "<Figure size 432x288 with 1 Axes>"
      ]
     },
     "metadata": {},
     "output_type": "display_data"
    }
   ],
   "source": [
    "# plot predictions vs real value\n",
    "\n",
    "plt.scatter(y_test,X_test_preds)\n",
    "plt.xlabel('True Price')\n",
    "plt.ylabel('Predicted Price')\n",
    "plt.show()"
   ]
  },
  {
   "cell_type": "code",
   "execution_count": null,
   "metadata": {},
   "outputs": [],
   "source": []
  },
  {
   "cell_type": "code",
   "execution_count": null,
   "metadata": {},
   "outputs": [],
   "source": []
  }
 ],
 "metadata": {
  "kernelspec": {
   "display_name": "Python 3",
   "language": "python",
   "name": "python3"
  },
  "language_info": {
   "codemirror_mode": {
    "name": "ipython",
    "version": 3
   },
   "file_extension": ".py",
   "mimetype": "text/x-python",
   "name": "python",
   "nbconvert_exporter": "python",
   "pygments_lexer": "ipython3",
   "version": "3.6.3"
  },
  "toc": {
   "nav_menu": {},
   "number_sections": true,
   "sideBar": true,
   "skip_h1_title": false,
   "toc_cell": false,
   "toc_position": {
    "height": "583px",
    "left": "0px",
    "right": "1324px",
    "top": "107px",
    "width": "212px"
   },
   "toc_section_display": "block",
   "toc_window_display": true
  }
 },
 "nbformat": 4,
 "nbformat_minor": 4
}
